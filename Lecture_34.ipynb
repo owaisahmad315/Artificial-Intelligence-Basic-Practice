{
  "nbformat": 4,
  "nbformat_minor": 0,
  "metadata": {
    "colab": {
      "provenance": [],
      "authorship_tag": "ABX9TyOsp0Iaa322Mxpbruf30Mv0",
      "include_colab_link": true
    },
    "kernelspec": {
      "name": "python3",
      "display_name": "Python 3"
    },
    "language_info": {
      "name": "python"
    }
  },
  "cells": [
    {
      "cell_type": "markdown",
      "metadata": {
        "id": "view-in-github",
        "colab_type": "text"
      },
      "source": [
        "<a href=\"https://colab.research.google.com/github/owaisahmad315/Artificial-Intelligence-Basic-Practice/blob/main/Lecture_34.ipynb\" target=\"_parent\"><img src=\"https://colab.research.google.com/assets/colab-badge.svg\" alt=\"Open In Colab\"/></a>"
      ]
    },
    {
      "cell_type": "markdown",
      "source": [
        "#**Regression**"
      ],
      "metadata": {
        "id": "VimQsQDafsIi"
      }
    },
    {
      "cell_type": "markdown",
      "source": [
        "1. Loading datasets\n",
        "2. Preprocessing the datasets\n",
        "3. Definition of Neural Network\n",
        "4. Training a Neural Network\n",
        "5. Testing a Neural Network"
      ],
      "metadata": {
        "id": "Zzr9eFnNf7e-"
      }
    },
    {
      "cell_type": "code",
      "source": [
        "!pip install pyTorch"
      ],
      "metadata": {
        "colab": {
          "base_uri": "https://localhost:8080/"
        },
        "id": "GVxdm9mmht6E",
        "outputId": "37ac2094-6ea6-4191-f2e4-135e05f4676e"
      },
      "execution_count": 8,
      "outputs": [
        {
          "output_type": "stream",
          "name": "stdout",
          "text": [
            "Collecting pyTorch\n",
            "  Downloading pytorch-1.0.2.tar.gz (689 bytes)\n",
            "  Preparing metadata (setup.py) ... \u001b[?25l\u001b[?25hdone\n",
            "Building wheels for collected packages: pyTorch\n",
            "  \u001b[1;31merror\u001b[0m: \u001b[1msubprocess-exited-with-error\u001b[0m\n",
            "  \n",
            "  \u001b[31m×\u001b[0m \u001b[32mpython setup.py bdist_wheel\u001b[0m did not run successfully.\n",
            "  \u001b[31m│\u001b[0m exit code: \u001b[1;36m1\u001b[0m\n",
            "  \u001b[31m╰─>\u001b[0m See above for output.\n",
            "  \n",
            "  \u001b[1;35mnote\u001b[0m: This error originates from a subprocess, and is likely not a problem with pip.\n",
            "  Building wheel for pyTorch (setup.py) ... \u001b[?25lerror\n",
            "\u001b[31m  ERROR: Failed building wheel for pyTorch\u001b[0m\u001b[31m\n",
            "\u001b[0m\u001b[?25h  Running setup.py clean for pyTorch\n",
            "Failed to build pyTorch\n",
            "\u001b[31mERROR: Could not build wheels for pyTorch, which is required to install pyproject.toml-based projects\u001b[0m\u001b[31m\n",
            "\u001b[0m"
          ]
        }
      ]
    },
    {
      "cell_type": "code",
      "execution_count": 1,
      "metadata": {
        "id": "jfldDTkTfbXX"
      },
      "outputs": [],
      "source": [
        "import torch\n",
        "import torch.nn as nn\n",
        "import torch.optim as optim\n",
        "from sklearn.datasets import fetch_california_housing\n",
        "from sklearn.model_selection import train_test_split\n",
        "from sklearn.preprocessing import StandardScaler\n",
        "from sklearn.metrics import mean_squared_error\n",
        "import pandas as pd\n"
      ]
    },
    {
      "cell_type": "code",
      "source": [
        "# load california housing datasets\n",
        "data = fetch_california_housing()\n",
        "X = data.data\n",
        "Y = data.target"
      ],
      "metadata": {
        "id": "CtBArWLNhHkc"
      },
      "execution_count": 2,
      "outputs": []
    },
    {
      "cell_type": "code",
      "source": [
        "# Convert X and Y to pandas Dataframes\n",
        "X_df = pd.DataFrame(X, columns = data.feature_names)\n",
        "\n",
        "# Display the loaded Data\n",
        "print(\"California HOusing Data\")\n",
        "print(X_df.head())"
      ],
      "metadata": {
        "colab": {
          "base_uri": "https://localhost:8080/"
        },
        "id": "EScwwpM0iPCo",
        "outputId": "476757eb-922b-4b09-9837-66c279b96220"
      },
      "execution_count": 3,
      "outputs": [
        {
          "output_type": "stream",
          "name": "stdout",
          "text": [
            "California HOusing Data\n",
            "   MedInc  HouseAge  AveRooms  AveBedrms  Population  AveOccup  Latitude  \\\n",
            "0  8.3252      41.0  6.984127   1.023810       322.0  2.555556     37.88   \n",
            "1  8.3014      21.0  6.238137   0.971880      2401.0  2.109842     37.86   \n",
            "2  7.2574      52.0  8.288136   1.073446       496.0  2.802260     37.85   \n",
            "3  5.6431      52.0  5.817352   1.073059       558.0  2.547945     37.85   \n",
            "4  3.8462      52.0  6.281853   1.081081       565.0  2.181467     37.85   \n",
            "\n",
            "   Longitude  \n",
            "0    -122.23  \n",
            "1    -122.22  \n",
            "2    -122.24  \n",
            "3    -122.25  \n",
            "4    -122.25  \n"
          ]
        }
      ]
    },
    {
      "cell_type": "markdown",
      "source": [
        "#**Splitting the Data into train and test sets**"
      ],
      "metadata": {
        "id": "FBJyBIgJjTih"
      }
    },
    {
      "cell_type": "code",
      "source": [
        "X_train, X_test, Y_train, Y_test = train_test_split(X, Y, test_size = (0.2), random_state = 42)"
      ],
      "metadata": {
        "id": "R--r38oVjyVQ"
      },
      "execution_count": 4,
      "outputs": []
    },
    {
      "cell_type": "markdown",
      "source": [
        "#**Normalizing the Data**"
      ],
      "metadata": {
        "id": "p2zQfyW_lSAd"
      }
    },
    {
      "cell_type": "code",
      "source": [
        "# Standardize the input features\n",
        "scaler = StandardScaler()\n",
        "X_train = scaler.fit_transform(X_train)\n",
        "X_test = scaler.transform(X_test)\n",
        "print(X_train)"
      ],
      "metadata": {
        "colab": {
          "base_uri": "https://localhost:8080/"
        },
        "id": "i-It5gmwlWWu",
        "outputId": "940f359d-aa2b-4bfc-cf05-210e2fbf31f5"
      },
      "execution_count": 5,
      "outputs": [
        {
          "output_type": "stream",
          "name": "stdout",
          "text": [
            "[[-0.326196    0.34849025 -0.17491646 ...  0.05137609 -1.3728112\n",
            "   1.27258656]\n",
            " [-0.03584338  1.61811813 -0.40283542 ... -0.11736222 -0.87669601\n",
            "   0.70916212]\n",
            " [ 0.14470145 -1.95271028  0.08821601 ... -0.03227969 -0.46014647\n",
            "  -0.44760309]\n",
            " ...\n",
            " [-0.49697313  0.58654547 -0.60675918 ...  0.02030568 -0.75500738\n",
            "   0.59946887]\n",
            " [ 0.96545045 -1.07984112  0.40217517 ...  0.00707608  0.90651045\n",
            "  -1.18553953]\n",
            " [-0.68544764  1.85617335 -0.85144571 ... -0.08535429  0.99543676\n",
            "  -1.41489815]]\n"
          ]
        }
      ]
    },
    {
      "cell_type": "markdown",
      "source": [
        "#**Conversion into Tensor**"
      ],
      "metadata": {
        "id": "JEhbYZ8THwFG"
      }
    },
    {
      "cell_type": "code",
      "source": [
        "# Convert Data to pyTorch Tensor\n",
        "X_train = torch.FloatTensor(X_train)\n",
        "X_test = torch.FloatTensor(X_test)\n",
        "Y_train = torch.FloatTensor(Y_train)\n",
        "Y_test = torch.FloatTensor(Y_train)\n",
        "\n",
        "print(X_train)"
      ],
      "metadata": {
        "colab": {
          "base_uri": "https://localhost:8080/"
        },
        "id": "FqVSYypfH0-T",
        "outputId": "ca72fddf-0c45-4e36-d288-fe8e617b507c"
      },
      "execution_count": 15,
      "outputs": [
        {
          "output_type": "stream",
          "name": "stdout",
          "text": [
            "tensor([[-0.3262,  0.3485, -0.1749,  ...,  0.0514, -1.3728,  1.2726],\n",
            "        [-0.0358,  1.6181, -0.4028,  ..., -0.1174, -0.8767,  0.7092],\n",
            "        [ 0.1447, -1.9527,  0.0882,  ..., -0.0323, -0.4601, -0.4476],\n",
            "        ...,\n",
            "        [-0.4970,  0.5865, -0.6068,  ...,  0.0203, -0.7550,  0.5995],\n",
            "        [ 0.9655, -1.0798,  0.4022,  ...,  0.0071,  0.9065, -1.1855],\n",
            "        [-0.6854,  1.8562, -0.8514,  ..., -0.0854,  0.9954, -1.4149]])\n"
          ]
        }
      ]
    },
    {
      "cell_type": "markdown",
      "source": [
        "#**Defining The Model**"
      ],
      "metadata": {
        "id": "wgZPsy4OKXlT"
      }
    },
    {
      "cell_type": "code",
      "source": [
        "# Define a simple Regression Model\n",
        "class RegressionModel(nn.Module):\n",
        "  def __init__(self, input_size):\n",
        "    super(RegressionModel, self).__init__()\n",
        "    self.fcl = nn.Linear(input_size, 64)\n",
        "    self.relu = nn.ReLU()\n",
        "    self.fc2 = nn.Linear(64, 128)\n",
        "    self.relu =  nn.ReLU()\n",
        "    self.fc3 = nn.Linear(128, 10)\n",
        "    self.relu = nn.ReLU()\n",
        "    self.fc4 = nn.Linear(10, 1)\n",
        "\n",
        "  def forward(self, x):\n",
        "    x = self.fc1(x)\n",
        "    x = self.relu(x)\n",
        "    x = self.fc2(x)\n",
        "    x = self.relu(x)\n",
        "    x = self.fc3(x)\n",
        "    x = self.relu(x)\n",
        "    x = self.fc4(x)\n",
        "\n",
        "    return x"
      ],
      "metadata": {
        "id": "uCCbBPkWKdWX"
      },
      "execution_count": 17,
      "outputs": []
    },
    {
      "cell_type": "code",
      "source": [
        "# Create the model\n",
        "input_size = X_train.shape[1]\n",
        "print(input_size)\n",
        "model = RegressionModel(input_size)\n",
        "print(model)"
      ],
      "metadata": {
        "colab": {
          "base_uri": "https://localhost:8080/"
        },
        "id": "yJ0RzPXKi_CE",
        "outputId": "cfd80e7d-dd65-413e-c670-901016ceec55"
      },
      "execution_count": 18,
      "outputs": [
        {
          "output_type": "stream",
          "name": "stdout",
          "text": [
            "8\n",
            "RegressionModel(\n",
            "  (fcl): Linear(in_features=8, out_features=64, bias=True)\n",
            "  (relu): ReLU()\n",
            "  (fc2): Linear(in_features=64, out_features=128, bias=True)\n",
            "  (fc3): Linear(in_features=128, out_features=10, bias=True)\n",
            "  (fc4): Linear(in_features=10, out_features=1, bias=True)\n",
            ")\n"
          ]
        }
      ]
    }
  ]
}